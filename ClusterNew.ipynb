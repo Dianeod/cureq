{
 "cells": [
  {
   "cell_type": "code",
   "execution_count": null,
   "metadata": {},
   "outputs": [],
   "source": [
    "\\l cure.q\n",
    "\\c 25 200\n",
    "sample:readsam[SIMPLE_SAMPLES[`:SAMPLE_SIMPLE1]]`"
   ]
  },
  {
   "cell_type": "code",
   "execution_count": null,
   "metadata": {},
   "outputs": [],
   "source": [
    "imax:{x?max x};\n",
    "imin:{x?min x};\n",
    "\n",
    "numRecalcs:()\n",
    "\n",
    "cure:{[qu;com;numR;sam;distMat]\n",
    "  old:qu j:j,qu[;`closestIdx]j@:imin qu[j:where qu`valid]`closestDist;\n",
    "  qu[j;`valid]:0b;\n",
    "  mean:avg pts:sam idx:raze old`idx;\n",
    "  maxFromMean:idx imax sum each{x*x}mean-/:pts;\n",
    "  rep:sam numR{[idx;distMat;i]union[i]idx imax -0w^min distMat[i;idx]}[idx;distMat]/enlist maxFromMean;\n",
    "  rep:(rep*1-com)+\\:com*mean;\n",
    "  new:`closestIdx`closestDist!(k;d)@\\:imin d:{min sum each x*x:raze x-/:\\:y}[rep]each qu[k:where qu`valid]`rep;\n",
    "  idxNew:count qu;\n",
    "  qu[l;`closestIdx`closestDist]:(idxNew;d k?l:exec i from qu where valid,closestDist>d);\n",
    "  qu:qu upsert update rep,idx,valid:1b from new;\n",
    "  j:exec i from qu where valid,closestIdx in j;\n",
    "  numRecalcs,:count j;\n",
    "  qu[j;`closestIdx`closestDist]:flip(kk@'l;d@'l:imin each d:{min sum each x*x:raze x-/:\\:y}/:'[qu[j]`rep]qu[`rep]kk:(k,idxNew)except/:j);\n",
    "  qu};\n",
    "\n",
    "cureClust:{[sample;numRep;comp;numClust] \n",
    " distMat:{[fx;x;i]@[;i;:;0n]sum fx*fx-:x}[flip sample]'[sample;j:til count sample];\n",
    " queue:update idx:enlist each i,valid:1b from([]rep:enlist each sample);\n",
    " queue:queue,'flip`closestIdx`closestDist!\n",
    "  flip{[distMat;x;y]y[i],d i:imin d:distMat[x]y}[distMat]\\:[j;j];\n",
    " \n",
    " res:{[n;x]n<sum x`valid}[numClust]cure[;comp;numRep;sample;distMat]/queue;\n",
    " \n",
    " delete valid from update pts:sample idx from select from res where valid\n",
    " \n",
    " }\n",
    "\n",
    "/time2                time3                time4               \n",
    "/--------------------------------------------------------------\n",
    "/0D00:00:20.897871000 0D00:00:00.328323000 0D00:00:14.925986000"
   ]
  },
  {
   "cell_type": "code",
   "execution_count": null,
   "metadata": {},
   "outputs": [],
   "source": [
    "update rep,idx,valid:1b from new from qu where rep=old`rep"
   ]
  },
  {
   "cell_type": "code",
   "execution_count": null,
   "metadata": {},
   "outputs": [],
   "source": [
    "/sample:readsam[FCPS_SAMPLES[`:SAMPLE_TARGET]]`\n",
    "sample:readsam[SIMPLE_SAMPLES[`:SAMPLE_SIMPLE1]]`\n",
    "\n",
    "\n",
    "\\t r:cureClust[sample;5;0.5;2]\n",
    "/[sample;numRep;comp;numClust]"
   ]
  },
  {
   "cell_type": "code",
   "execution_count": null,
   "metadata": {},
   "outputs": [],
   "source": [
    "{plt[`:scatter][;]. flip x`pts}each r;\n",
    "plt[`:show][];"
   ]
  },
  {
   "cell_type": "code",
   "execution_count": null,
   "metadata": {},
   "outputs": [],
   "source": [
    "dsc:{[n;r;s](r+n?s-r)*/:(cos;sin)@\\:4*n?acos 0}\n",
    "data :flip(-5 1)+(1 1.5)*dsc[1000; 0;1.8],'dsc[2000;3.1;4.2],'dsc[4000;5.2;6.5]\n",
    "data,:flip(4 -1)+(1 8)*dsc[4000; 0;1.]\n",
    "data@:neg[4000&count data]?count data"
   ]
  },
  {
   "cell_type": "code",
   "execution_count": null,
   "metadata": {},
   "outputs": [],
   "source": [
    "sample:data"
   ]
  },
  {
   "cell_type": "code",
   "execution_count": null,
   "metadata": {},
   "outputs": [],
   "source": [
    "\\t distMat:{d:{sum{x*x}each x}each(x-\\:flip x);.[;;:;0n]/[d;2#'til count d]}sample;\n",
    "\n",
    "newDist:-1_({{sum{x*x}each x}each(1_(sample(x)_til n)-\\:sample x)}each til count sample)\n",
    "newDist"
   ]
  },
  {
   "cell_type": "code",
   "execution_count": null,
   "metadata": {},
   "outputs": [],
   "source": [
    "(1+til count distMat)_'distMat"
   ]
  },
  {
   "cell_type": "code",
   "execution_count": null,
   "metadata": {},
   "outputs": [],
   "source": []
  },
  {
   "cell_type": "code",
   "execution_count": null,
   "metadata": {},
   "outputs": [],
   "source": [
    "/ {d:{sum{x*x}each x}each(x-\\:flip x);.[;;:;0n]/[d;2#'til count d]}x / original\n",
    "/ {[fx;x;i]sum fx*fx:x-(1+i)_'fx}[flip x]'[x;til count x]  / upper triangular\n",
    "/ {[fx;x;i]@[;i;:;0n]sum fx*fx-:x}[flip x]'[x;til count x] / square\n"
   ]
  },
  {
   "cell_type": "code",
   "execution_count": 1,
   "metadata": {},
   "outputs": [],
   "source": [
    "\\l cure.q\n",
    "\\c 25 200\n",
    "sample:readsam[SIMPLE_SAMPLES[`:SAMPLE_SIMPLE1]]`"
   ]
  },
  {
   "cell_type": "code",
   "execution_count": 2,
   "metadata": {},
   "outputs": [],
   "source": [
    "/sample:readsam[FCPS_SAMPLES[`:SAMPLE_TARGET]]`\n",
    "/sample:readsam[SIMPLE_SAMPLES[`:SAMPLE_SIMPLE1]]`\n",
    "\n",
    "dsc:{[n;r;s](r+n?s-r)*/:(cos;sin)@\\:4*n?acos 0}\n",
    "data :flip(-5 1)+(1 1.5)*dsc[1000; 0;1.8],'dsc[2000;3.1;4.2],'dsc[4000;5.2;6.5]\n",
    "data,:flip(4 -1)+(1 8)*dsc[4000; 0;1.]\n",
    "data@:neg[4000&count data]?count data\n",
    "\n",
    "sample:data"
   ]
  },
  {
   "cell_type": "code",
   "execution_count": 3,
   "metadata": {},
   "outputs": [],
   "source": [
    "imax:{x?max x};\n",
    "imin:{x?min x};\n",
    "\n",
    "cure:{[qu;com;numR;sam;pointDist]\n",
    "  old:qu j:j,qu[;`closestIdx]j@:imin qu[j:where qu`valid]`closestDist;\n",
    "  qu[j;`valid]:0b;\n",
    "  mean:avg pts:sam idx:raze old`idx;\n",
    "  maxFromMean:idx imax sum each{x*x}mean-/:pts;\n",
    "  rep:sam numR{[idx;pointDist;i]union[i]idx imax -0w^min pointDist[i;idx]}[idx;pointDist]/enlist maxFromMean;\n",
    "  rep:(rep*1-com)+\\:com*mean;\n",
    "  new:`closestIdx`closestDist!(k;d)@\\:imin d:{min sum each x*x:raze x-/:\\:y}[rep]each qu[k:where qu`valid]`rep;\n",
    "  qu[l;`closestIdx`closestDist]:(j0:first j;d k?l:exec i from qu where valid,closestDist>d);\n",
    "  qu[j0]:update rep,idx,valid:1b from new;\n",
    "  j:exec i from qu where valid,closestIdx in j;\n",
    "  qu[j;`closestIdx`closestDist]:flip(kk@'l;d@'l:imin each d:{min sum each x*x:raze x-/:\\:y}/:'[qu[j]`rep]qu[`rep]kk:(k,j0)except/:j);\n",
    "  qu}\n",
    "\n",
    "cureClust:{[sample;numRep;comp;numClust] \n",
    "  pointDist:{[fx;x;i]@[;i;:;0n]sum fx*fx-:x}[flip sample]'[sample;j:til count sample];\n",
    "  queue:update idx:enlist each i,valid:1b from([]rep:enlist each sample);\n",
    "  queue:update clustDist:pointDist from queue,'flip`closestIdx`closestDist!\n",
    "   flip{[pointDist;x;y]y[i],d i:imin d:pointDist[x]y}[pointDist]\\:[j;j];\n",
    " \n",
    "  res:{[n;x]n<sum x`valid}[numClust]cure[;comp;numRep;sample;pointDist]/queue;\n",
    "  delete valid from update pts:sample idx from select from res where valid}"
   ]
  },
  {
   "cell_type": "code",
   "execution_count": 4,
   "metadata": {},
   "outputs": [
    {
     "data": {
      "text/plain": [
       "38441\n"
      ]
     },
     "execution_count": 4,
     "metadata": {},
     "output_type": "execute_result"
    }
   ],
   "source": [
    "\\t r:cureClust[sample;65;0;4]"
   ]
  },
  {
   "cell_type": "code",
   "execution_count": 5,
   "metadata": {},
   "outputs": [
    {
     "data": {
      "image/png": "[encoded data removed]",
      "text/plain": [
       "<Figure size 460.8x345.6 with 1 Axes>"
      ]
     },
     "metadata": {},
     "output_type": "display_data"
    }
   ],
   "source": [
    "plt:.p.import[`matplotlib]`:pyplot;\n",
    "{plt[`:scatter][;]. flip x`pts}each r;\n",
    "plt[`:show][];"
   ]
  },
  {
   "cell_type": "code",
   "execution_count": null,
   "metadata": {},
   "outputs": [],
   "source": [
    "numRep:65;comp:0;numClust:4;"
   ]
  },
  {
   "cell_type": "code",
   "execution_count": null,
   "metadata": {},
   "outputs": [],
   "source": [
    "clustDist:pointDist:{[fx;x;i]@[;i;:;0n]sum fx*fx-:x}[flip sample]'[sample;j:til count sample];\n",
    "queue:update idx:enlist each i,valid:1b from([]rep:enlist each sample);"
   ]
  },
  {
   "cell_type": "code",
   "execution_count": null,
   "metadata": {},
   "outputs": [],
   "source": [
    "queue:queue,'flip`closestIdx`closestDist!\n",
    "  flip{[pointDist;x;y]y[i],d i:imin d:pointDist[x]y}[pointDist]\\:[j;j];"
   ]
  },
  {
   "cell_type": "code",
   "execution_count": null,
   "metadata": {},
   "outputs": [],
   "source": [
    "queue:update clusterDist:pointDist from queue"
   ]
  },
  {
   "cell_type": "code",
   "execution_count": null,
   "metadata": {},
   "outputs": [],
   "source": [
    "queue"
   ]
  },
  {
   "cell_type": "code",
   "execution_count": null,
   "metadata": {},
   "outputs": [],
   "source": [
    "j0:first j:-2?4000\n",
    "k:(asc -4000?4000)except j\n",
    "d:count[k]?1f"
   ]
  },
  {
   "cell_type": "code",
   "execution_count": null,
   "metadata": {},
   "outputs": [],
   "source": [
    "\\t:1000 {[queue;k;j0;d]queue[j0;`clusterDist;k]:d}[queue;k;j0;d]"
   ]
  },
  {
   "cell_type": "code",
   "execution_count": null,
   "metadata": {},
   "outputs": [],
   "source": [
    "\\t:1000 {[queue;k;j0;d]queue[k;`clusterDist;j0]:d}[queue;k;j0;d]"
   ]
  },
  {
   "cell_type": "code",
   "execution_count": null,
   "metadata": {},
   "outputs": [],
   "source": [
    "\\t:1000 queue[j0;`clusterDist;k]:d"
   ]
  },
  {
   "cell_type": "code",
   "execution_count": null,
   "metadata": {},
   "outputs": [],
   "source": [
    "\\t:1000 queue[k;`clusterDist;j0]:d"
   ]
  },
  {
   "cell_type": "code",
   "execution_count": null,
   "metadata": {},
   "outputs": [],
   "source": [
    "5#'iasc each 0w^pointDist"
   ]
  },
  {
   "cell_type": "code",
   "execution_count": null,
   "metadata": {},
   "outputs": [],
   "source": []
  }
 ],
 "metadata": {
  "kernelspec": {
   "display_name": "Q (kdb+)",
   "language": "q",
   "name": "qpk"
  },
  "language_info": {
   "file_extension": ".q",
   "mimetype": "text/x-q",
   "name": "q",
   "version": "3.6.0"
  }
 },
 "nbformat": 4,
 "nbformat_minor": 2
}
